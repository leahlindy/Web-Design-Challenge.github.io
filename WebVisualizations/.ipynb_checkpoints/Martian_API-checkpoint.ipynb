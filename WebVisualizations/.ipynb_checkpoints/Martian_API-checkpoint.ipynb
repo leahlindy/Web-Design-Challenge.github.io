{
 "cells": [
  {
   "cell_type": "code",
   "execution_count": 1,
   "metadata": {},
   "outputs": [],
   "source": [
    "#Dependancies\n",
    "import matplotlib.pyplot as plt\n",
    "import pandas as pd\n",
    "import requests\n",
    "from datetime import datetime\n",
    "import seaborn as sns\n",
    "sns.set(style=\"darkgrid\")"
   ]
  },
  {
   "cell_type": "code",
   "execution_count": 2,
   "metadata": {},
   "outputs": [],
   "source": [
    "# USE MARS INSIGHT PROJECT API TO CREATE DAILY WEATHER REPORT OF MARS \n",
    "# Documentation: https://api.nasa.gov/assets/insight/InSight%20Weather%20API%20Documentation.pdf"
   ]
  },
  {
   "cell_type": "code",
   "execution_count": 3,
   "metadata": {},
   "outputs": [],
   "source": [
    "from api_key import nasa_key\n",
    "nasa_key\n",
    "base_url ='https://api.nasa.gov/insight_weather/?'\n",
    "query_url = f'{base_url}api_key={nasa_key}&feedtype=json&ver=1.'"
   ]
  },
  {
   "cell_type": "code",
   "execution_count": 4,
   "metadata": {},
   "outputs": [
    {
     "data": {
      "text/plain": [
       "'https://api.nasa.gov/insight_weather/?api_key=x0vI6p6jUZL6wftZ2XccsfpVahCArjfeIgxdkqmR&feedtype=json&ver=1.'"
      ]
     },
     "execution_count": 4,
     "metadata": {},
     "output_type": "execute_result"
    }
   ],
   "source": [
    "query_url"
   ]
  },
  {
   "cell_type": "code",
   "execution_count": 5,
   "metadata": {},
   "outputs": [],
   "source": [
    "nasa_response = requests.get(query_url)\n",
    "nasa_json=nasa_response.json()\n"
   ]
  },
  {
   "cell_type": "code",
   "execution_count": 6,
   "metadata": {},
   "outputs": [
    {
     "name": "stdout",
     "output_type": "stream",
     "text": [
      "A sol is a Martian day, the data has up to date information on the last 7 Sols.\n"
     ]
    }
   ],
   "source": [
    "sol_keys=nasa_json[\"sol_keys\"]\n",
    "print(f'A sol is a Martian day, the data has up to date information on the last {len(sol_keys)} Sols.')"
   ]
  },
  {
   "cell_type": "code",
   "execution_count": 7,
   "metadata": {},
   "outputs": [],
   "source": [
    "#since only most recent 7 sol's are avaiable need to make the [sol] dynamic\n",
    "#dynamic dates\n",
    "sol_key=nasa_json[\"sol_keys\"]\n",
    "sol_list=[]\n",
    "for sol in sol_key:\n",
    "    sol_list.append(sol)"
   ]
  },
  {
   "cell_type": "code",
   "execution_count": 8,
   "metadata": {},
   "outputs": [],
   "source": [
    "# Convert Martian date to earth date for all sol articles\n",
    "date_list=[]\n",
    "numerical_dates=[]\n",
    "\n",
    "for day in sol_list:\n",
    "    utc_day=nasa_json[day]['First_UTC']\n",
    "    utc=datetime.strptime(utc_day, '%Y-%m-%dT%H:%M:%SZ')\n",
    "    date_formatted=utc.strftime(\"%d-%b-%Y\")\n",
    "    numeric_formatted = utc.strftime(\"%d-%m-%Y\")\n",
    "    date_list.append(date_formatted)\n",
    "    numerical_dates.append(numeric_formatted)"
   ]
  },
  {
   "cell_type": "code",
   "execution_count": null,
   "metadata": {},
   "outputs": [],
   "source": []
  },
  {
   "cell_type": "code",
   "execution_count": 10,
   "metadata": {},
   "outputs": [
    {
     "name": "stdout",
     "output_type": "stream",
     "text": [
      "The Temperature of sol_1 is -59.095 F.\n",
      "The average horizontal windspeed of sol_1 is 4.839 m/s.\n",
      "The average atmospheric pressure of sol_1 is 660.348 Pa.\n",
      "wind direction: WNW\n"
     ]
    }
   ],
   "source": [
    "# Metrics available for each Sol:\n",
    "# Each sol has linear averages for Temperature (AT), horizontal wind speed (HWS) and atmostpheric pressure (PRE)\n",
    "print(f'The Temperature of sol_1 is {nasa_json[sol_list[0]][\"AT\"][\"av\"]} F.')\n",
    "print(f'The average horizontal windspeed of sol_1 is {nasa_json[sol_list[0]][\"HWS\"][\"av\"]} m/s.')\n",
    "print(f'The average atmospheric pressure of sol_1 is {nasa_json[sol_list[0]][\"PRE\"][\"av\"]} Pa.')\n",
    "# There is also a most common wind direction measure\n",
    "print(f'wind direction: {nasa_json[sol_list[0]][\"WD\"][\"most_common\"][\"compass_point\"]}')"
   ]
  },
  {
   "cell_type": "code",
   "execution_count": 11,
   "metadata": {},
   "outputs": [
    {
     "name": "stdout",
     "output_type": "stream",
     "text": [
      "13-Apr-2020: \n",
      " AT: -59.095 F \n",
      " HWS: 4.839 m/s \n",
      " PRE: 660.348 Pa.\n",
      "14-Apr-2020: \n",
      " AT: -59.356 F \n",
      " HWS: 4.831 m/s \n",
      " PRE: 658.527 Pa.\n",
      "15-Apr-2020: \n",
      " AT: -59.627 F \n",
      " HWS: 4.762 m/s \n",
      " PRE: 661.28 Pa.\n",
      "16-Apr-2020: \n",
      " AT: -59.388 F \n",
      " HWS: 4.622 m/s \n",
      " PRE: 662.632 Pa.\n",
      "17-Apr-2020: \n",
      " AT: -59.119 F \n",
      " HWS: 4.637 m/s \n",
      " PRE: 663.224 Pa.\n",
      "18-Apr-2020: \n",
      " AT: -61.677 F \n",
      " HWS: 4.589 m/s \n",
      " PRE: 664.757 Pa.\n",
      "19-Apr-2020: \n",
      " AT: -53.78 F \n",
      " HWS: 5.087 m/s \n",
      " PRE: 664.868 Pa.\n"
     ]
    }
   ],
   "source": [
    "# iterate through each sol\n",
    "try:\n",
    "    for i in range(0,7):\n",
    "        print(f'{date_list[i]}: \\n AT: {nasa_json[sol_list[i]][\"AT\"][\"av\"]} F \\n HWS: {nasa_json[sol_list[i]][\"HWS\"][\"av\"]} m/s \\n PRE: {nasa_json[sol_list[i]][\"PRE\"][\"av\"]} Pa.')\n",
    "except KeyError:\n",
    "    pass"
   ]
  },
  {
   "cell_type": "code",
   "execution_count": 12,
   "metadata": {},
   "outputs": [],
   "source": [
    "# Save result into variables for data frame\n",
    "sol_variables = [sol_list[i] for i in range(0,7)]\n",
    "date_variables = [date_list[i] for i in range(0,7)]\n",
    "temp_variables = [nasa_json[sol_list[i]][\"AT\"][\"av\"] for i in range(0,7)]\n",
    "HWS_variables = [nasa_json[sol_list[i]][\"HWS\"][\"av\"] for i in range(0,7)]\n",
    "PRE_variables = [nasa_json[sol_list[i]][\"PRE\"][\"av\"] for i in range(0,7)]"
   ]
  },
  {
   "cell_type": "code",
   "execution_count": 13,
   "metadata": {},
   "outputs": [
    {
     "data": {
      "text/html": [
       "<div>\n",
       "<style scoped>\n",
       "    .dataframe tbody tr th:only-of-type {\n",
       "        vertical-align: middle;\n",
       "    }\n",
       "\n",
       "    .dataframe tbody tr th {\n",
       "        vertical-align: top;\n",
       "    }\n",
       "\n",
       "    .dataframe thead th {\n",
       "        text-align: right;\n",
       "    }\n",
       "</style>\n",
       "<table border=\"1\" class=\"dataframe\">\n",
       "  <thead>\n",
       "    <tr style=\"text-align: right;\">\n",
       "      <th></th>\n",
       "      <th>Sol</th>\n",
       "      <th>Date</th>\n",
       "      <th>Average Temp</th>\n",
       "      <th>Horizontal Wind Speed</th>\n",
       "      <th>Pressure</th>\n",
       "    </tr>\n",
       "  </thead>\n",
       "  <tbody>\n",
       "    <tr>\n",
       "      <td>0</td>\n",
       "      <td>491</td>\n",
       "      <td>13-Apr-2020</td>\n",
       "      <td>-59.095</td>\n",
       "      <td>4.839</td>\n",
       "      <td>660.348</td>\n",
       "    </tr>\n",
       "    <tr>\n",
       "      <td>1</td>\n",
       "      <td>492</td>\n",
       "      <td>14-Apr-2020</td>\n",
       "      <td>-59.356</td>\n",
       "      <td>4.831</td>\n",
       "      <td>658.527</td>\n",
       "    </tr>\n",
       "    <tr>\n",
       "      <td>2</td>\n",
       "      <td>493</td>\n",
       "      <td>15-Apr-2020</td>\n",
       "      <td>-59.627</td>\n",
       "      <td>4.762</td>\n",
       "      <td>661.280</td>\n",
       "    </tr>\n",
       "    <tr>\n",
       "      <td>3</td>\n",
       "      <td>494</td>\n",
       "      <td>16-Apr-2020</td>\n",
       "      <td>-59.388</td>\n",
       "      <td>4.622</td>\n",
       "      <td>662.632</td>\n",
       "    </tr>\n",
       "    <tr>\n",
       "      <td>4</td>\n",
       "      <td>495</td>\n",
       "      <td>17-Apr-2020</td>\n",
       "      <td>-59.119</td>\n",
       "      <td>4.637</td>\n",
       "      <td>663.224</td>\n",
       "    </tr>\n",
       "    <tr>\n",
       "      <td>5</td>\n",
       "      <td>496</td>\n",
       "      <td>18-Apr-2020</td>\n",
       "      <td>-61.677</td>\n",
       "      <td>4.589</td>\n",
       "      <td>664.757</td>\n",
       "    </tr>\n",
       "    <tr>\n",
       "      <td>6</td>\n",
       "      <td>497</td>\n",
       "      <td>19-Apr-2020</td>\n",
       "      <td>-53.780</td>\n",
       "      <td>5.087</td>\n",
       "      <td>664.868</td>\n",
       "    </tr>\n",
       "  </tbody>\n",
       "</table>\n",
       "</div>"
      ],
      "text/plain": [
       "   Sol         Date  Average Temp  Horizontal Wind Speed  Pressure\n",
       "0  491  13-Apr-2020       -59.095                  4.839   660.348\n",
       "1  492  14-Apr-2020       -59.356                  4.831   658.527\n",
       "2  493  15-Apr-2020       -59.627                  4.762   661.280\n",
       "3  494  16-Apr-2020       -59.388                  4.622   662.632\n",
       "4  495  17-Apr-2020       -59.119                  4.637   663.224\n",
       "5  496  18-Apr-2020       -61.677                  4.589   664.757\n",
       "6  497  19-Apr-2020       -53.780                  5.087   664.868"
      ]
     },
     "execution_count": 13,
     "metadata": {},
     "output_type": "execute_result"
    }
   ],
   "source": [
    "mars_df=pd.DataFrame({'Sol':sol_variables,\n",
    "                        'Date': date_variables,\n",
    "                        'Average Temp':temp_variables,\n",
    "                        'Horizontal Wind Speed':HWS_variables,\n",
    "                         'Pressure':PRE_variables\n",
    "                        })\n",
    "mars_df"
   ]
  },
  {
   "cell_type": "code",
   "execution_count": 14,
   "metadata": {},
   "outputs": [],
   "source": [
    "# Export the mars data into a .csv.\n",
    "mars_df.to_csv('Resources/mars.csv', encoding='utf-8',index=False)"
   ]
  },
  {
   "cell_type": "code",
   "execution_count": 15,
   "metadata": {},
   "outputs": [],
   "source": [
    "#use temperature to alter size of points\n",
    "s= mars_df['Average Temp']\n"
   ]
  },
  {
   "cell_type": "code",
   "execution_count": 16,
   "metadata": {},
   "outputs": [
    {
     "data": {
      "image/png": "[encoded data removed]",
      "text/plain": [
       "<Figure size 432x288 with 1 Axes>"
      ]
     },
     "metadata": {
      "needs_background": "light"
     },
     "output_type": "display_data"
    }
   ],
   "source": [
    "fig = plt.figure()\n",
    "ax = sns.scatterplot(x='Sol', y='Average Temp', size=s, sizes=(75, 200),data=mars_df)\n",
    "ax.set_title('Avareage Temperature on Mars')\n",
    "ax.set_xlabel('Sol (Martian Day)')\n",
    "ax.set_ylabel('AT (F)')\n",
    "fig.savefig('Visualizations/AT.png')"
   ]
  },
  {
   "cell_type": "code",
   "execution_count": 17,
   "metadata": {},
   "outputs": [
    {
     "data": {
      "image/png": "[encoded data removed]",
      "text/plain": [
       "<Figure size 432x288 with 1 Axes>"
      ]
     },
     "metadata": {
      "needs_background": "light"
     },
     "output_type": "display_data"
    }
   ],
   "source": [
    "fig = plt.figure()\n",
    "ax = sns.scatterplot(x='Sol', y='Horizontal Wind Speed', size=s, sizes=(75, 200), legend=False,data=mars_df)\n",
    "ax.set_title('Horizontal Wind Speed on Mars')\n",
    "ax.set_xlabel('Sol (Martian Day)')\n",
    "ax.set_ylabel('HWS (m/s)')\n",
    "fig.savefig('Visualizations/HWS.png')"
   ]
  },
  {
   "cell_type": "code",
   "execution_count": 18,
   "metadata": {},
   "outputs": [
    {
     "data": {
      "image/png": "[encoded data removed]",
      "text/plain": [
       "<Figure size 432x288 with 1 Axes>"
      ]
     },
     "metadata": {
      "needs_background": "light"
     },
     "output_type": "display_data"
    }
   ],
   "source": [
    "fig = plt.figure()\n",
    "ax = sns.scatterplot(x='Sol', y='Pressure', size=s, sizes=(75, 200), legend=False,data=mars_df)\n",
    "ax.set_title('Atmospheric Pressure on Mars')\n",
    "ax.set_xlabel('Sol (Martian Day)')\n",
    "ax.set_ylabel('Pressure (Pa)')\n",
    "fig.savefig('Visualizations/Pressure.png')"
   ]
  },
  {
   "cell_type": "code",
   "execution_count": null,
   "metadata": {},
   "outputs": [],
   "source": []
  },
  {
   "cell_type": "code",
   "execution_count": null,
   "metadata": {},
   "outputs": [],
   "source": []
  },
  {
   "cell_type": "code",
   "execution_count": null,
   "metadata": {},
   "outputs": [],
   "source": []
  }
 ],
 "metadata": {
  "kernelspec": {
   "display_name": "Python 3",
   "language": "python",
   "name": "python3"
  },
  "language_info": {
   "codemirror_mode": {
    "name": "ipython",
    "version": 3
   },
   "file_extension": ".py",
   "mimetype": "text/x-python",
   "name": "python",
   "nbconvert_exporter": "python",
   "pygments_lexer": "ipython3",
   "version": "3.7.4"
  }
 },
 "nbformat": 4,
 "nbformat_minor": 2
}
