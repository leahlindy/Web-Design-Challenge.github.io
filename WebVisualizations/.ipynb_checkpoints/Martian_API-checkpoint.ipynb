{
 "cells": [
  {
   "cell_type": "code",
   "execution_count": 145,
   "metadata": {},
   "outputs": [],
   "source": [
    "import pandas as pd\n",
    "import requests\n",
    "from datetime import datetime\n",
    "from dateutil import tz"
   ]
  },
  {
   "cell_type": "code",
   "execution_count": 146,
   "metadata": {},
   "outputs": [],
   "source": [
    "# USE MARS INSIGHT PROJECT API TO CREATE DAILY WEATHER REPORT OF MARS \n",
    "# Documentation: https://api.nasa.gov/assets/insight/InSight%20Weather%20API%20Documentation.pdf"
   ]
  },
  {
   "cell_type": "code",
   "execution_count": 147,
   "metadata": {},
   "outputs": [],
   "source": [
    "nasa_api_key = 'DEMO_KEY'\n",
    "base_url ='https://api.nasa.gov/insight_weather/?'\n",
    "query_url = f'{base_url}api_key={nasa_api_key}&feedtype=json&ver=1.'"
   ]
  },
  {
   "cell_type": "code",
   "execution_count": 148,
   "metadata": {},
   "outputs": [
    {
     "data": {
      "text/plain": [
       "'https://api.nasa.gov/insight_weather/?api_key=DEMO_KEY&feedtype=json&ver=1.'"
      ]
     },
     "execution_count": 148,
     "metadata": {},
     "output_type": "execute_result"
    }
   ],
   "source": [
    "query_url"
   ]
  },
  {
   "cell_type": "code",
   "execution_count": 149,
   "metadata": {},
   "outputs": [],
   "source": [
    "nasa_response = requests.get(query_url)\n",
    "nasa_json=nasa_response.json()"
   ]
  },
  {
   "cell_type": "code",
   "execution_count": 150,
   "metadata": {},
   "outputs": [
    {
     "name": "stdout",
     "output_type": "stream",
     "text": [
      "A sol is a Martian day, the data has up to date information on the last 7 Sols.\n"
     ]
    }
   ],
   "source": [
    "sol_keys=nasa_json[\"sol_keys\"]\n",
    "print(f'A sol is a Martian day, the data has up to date information on the last {len(sol_keys)} Sols.')"
   ]
  },
  {
   "cell_type": "code",
   "execution_count": 151,
   "metadata": {},
   "outputs": [],
   "source": [
    "#since only most recent 7 sol's are avaiable need to make the [sol] dynamic\n",
    "#dynamic dates\n",
    "sol_key=nasa_json[\"sol_keys\"]\n",
    "sol_list=[]\n",
    "for sol in sol_key:\n",
    "    sol_list.append(sol)"
   ]
  },
  {
   "cell_type": "code",
   "execution_count": 152,
   "metadata": {},
   "outputs": [],
   "source": [
    "# Convert Martian date to earth date for all sol articles\n",
    "date_list=[]\n",
    "\n",
    "for day in sol_list:\n",
    "    utc_day=nasa_json[day]['First_UTC']\n",
    "    utc=datetime.strptime(utc_day, '%Y-%m-%dT%H:%M:%SZ')\n",
    "    date_formatted=utc.strftime(\"%d-%b-%Y\")\n",
    "    date_list.append(date_formatted)"
   ]
  },
  {
   "cell_type": "code",
   "execution_count": 153,
   "metadata": {},
   "outputs": [
    {
     "name": "stdout",
     "output_type": "stream",
     "text": [
      "The Temperature of sol_1 is -65.268 F.\n",
      "The average horizontal windspeed of sol_1 is 4.961 m/s.\n",
      "The average atmospheric pressure of sol_1 is 657.298 Pa.\n",
      "wind direction: SW\n"
     ]
    }
   ],
   "source": [
    "# Metrics available for each Sol:\n",
    "# Each sol has linear averages for Temperature (AT), horizontal wind speed (HWS) and atmostpheric pressure (PRE)\n",
    "print(f'The Temperature of sol_1 is {nasa_json[sol_list[0]][\"AT\"][\"av\"]} F.')\n",
    "print(f'The average horizontal windspeed of sol_1 is {nasa_json[sol_list[0]][\"HWS\"][\"av\"]} m/s.')\n",
    "print(f'The average atmospheric pressure of sol_1 is {nasa_json[sol_list[0]][\"PRE\"][\"av\"]} Pa.')\n",
    "# There is also a most common wind direction measure\n",
    "print(f'wind direction: {nasa_json[sol_list[0]][\"WD\"][\"most_common\"][\"compass_point\"]}')"
   ]
  },
  {
   "cell_type": "code",
   "execution_count": 158,
   "metadata": {},
   "outputs": [
    {
     "name": "stdout",
     "output_type": "stream",
     "text": [
      "08-Apr-2020: \n",
      " AT: -65.268 F \n",
      " HWS: 4.961 m/s \n",
      " PRE: 657.298 Pa.\n",
      "09-Apr-2020: \n",
      " AT: -58.294 F \n",
      " HWS: 4.865 m/s \n",
      " PRE: 655.392 Pa.\n",
      "10-Apr-2020: \n",
      " AT: -70.835 F \n",
      " HWS: 4.64 m/s \n",
      " PRE: 662.844 Pa.\n",
      "11-Apr-2020: \n",
      " AT: -54.566 F \n",
      " HWS: 4.766 m/s \n",
      " PRE: 658.639 Pa.\n",
      "12-Apr-2020: \n",
      " AT: -60.605 F \n",
      " HWS: 4.757 m/s \n",
      " PRE: 659.311 Pa.\n",
      "13-Apr-2020: \n",
      " AT: -59.095 F \n",
      " HWS: 4.839 m/s \n",
      " PRE: 660.348 Pa.\n",
      "14-Apr-2020: \n",
      " AT: -54.007 F \n",
      " HWS: 5.134 m/s \n",
      " PRE: 660.051 Pa.\n"
     ]
    }
   ],
   "source": [
    "# iterate through each sol\n",
    "for i in range(0,7):\n",
    "    print(f'{date_list[i]}: \\n AT: {nasa_json[sol_list[i]][\"AT\"][\"av\"]} F \\n HWS: {nasa_json[sol_list[i]][\"HWS\"][\"av\"]} m/s \\n PRE: {nasa_json[sol_list[i]][\"PRE\"][\"av\"]} Pa.')\n",
    "\n",
    "          "
   ]
  },
  {
   "cell_type": "code",
   "execution_count": 178,
   "metadata": {},
   "outputs": [],
   "source": [
    "# Save result into variables for data frame\n",
    "date_variables = [date_list[i] for i in range(0,7)]\n",
    "temp_variables = [nasa_json[sol_list[i]][\"AT\"][\"av\"] for i in range(0,7)]\n",
    "HWS_variables = [nasa_json[sol_list[i]][\"HWS\"][\"av\"] for i in range(0,7)]\n",
    "PRE_variables = [nasa_json[sol_list[i]][\"PRE\"][\"av\"] for i in range(0,7)]"
   ]
  },
  {
   "cell_type": "code",
   "execution_count": 182,
   "metadata": {},
   "outputs": [
    {
     "data": {
      "text/html": [
       "<div>\n",
       "<style scoped>\n",
       "    .dataframe tbody tr th:only-of-type {\n",
       "        vertical-align: middle;\n",
       "    }\n",
       "\n",
       "    .dataframe tbody tr th {\n",
       "        vertical-align: top;\n",
       "    }\n",
       "\n",
       "    .dataframe thead th {\n",
       "        text-align: right;\n",
       "    }\n",
       "</style>\n",
       "<table border=\"1\" class=\"dataframe\">\n",
       "  <thead>\n",
       "    <tr style=\"text-align: right;\">\n",
       "      <th></th>\n",
       "      <th>Date</th>\n",
       "      <th>Average Temp</th>\n",
       "      <th>Horizontal Wind Speed</th>\n",
       "      <th>Pressure</th>\n",
       "    </tr>\n",
       "  </thead>\n",
       "  <tbody>\n",
       "    <tr>\n",
       "      <td>0</td>\n",
       "      <td>08-Apr-2020</td>\n",
       "      <td>-65.268</td>\n",
       "      <td>4.961</td>\n",
       "      <td>657.298</td>\n",
       "    </tr>\n",
       "    <tr>\n",
       "      <td>1</td>\n",
       "      <td>09-Apr-2020</td>\n",
       "      <td>-58.294</td>\n",
       "      <td>4.865</td>\n",
       "      <td>655.392</td>\n",
       "    </tr>\n",
       "    <tr>\n",
       "      <td>2</td>\n",
       "      <td>10-Apr-2020</td>\n",
       "      <td>-70.835</td>\n",
       "      <td>4.640</td>\n",
       "      <td>662.844</td>\n",
       "    </tr>\n",
       "    <tr>\n",
       "      <td>3</td>\n",
       "      <td>11-Apr-2020</td>\n",
       "      <td>-54.566</td>\n",
       "      <td>4.766</td>\n",
       "      <td>658.639</td>\n",
       "    </tr>\n",
       "    <tr>\n",
       "      <td>4</td>\n",
       "      <td>12-Apr-2020</td>\n",
       "      <td>-60.605</td>\n",
       "      <td>4.757</td>\n",
       "      <td>659.311</td>\n",
       "    </tr>\n",
       "    <tr>\n",
       "      <td>5</td>\n",
       "      <td>13-Apr-2020</td>\n",
       "      <td>-59.095</td>\n",
       "      <td>4.839</td>\n",
       "      <td>660.348</td>\n",
       "    </tr>\n",
       "    <tr>\n",
       "      <td>6</td>\n",
       "      <td>14-Apr-2020</td>\n",
       "      <td>-54.007</td>\n",
       "      <td>5.134</td>\n",
       "      <td>660.051</td>\n",
       "    </tr>\n",
       "  </tbody>\n",
       "</table>\n",
       "</div>"
      ],
      "text/plain": [
       "          Date  Average Temp  Horizontal Wind Speed  Pressure\n",
       "0  08-Apr-2020       -65.268                  4.961   657.298\n",
       "1  09-Apr-2020       -58.294                  4.865   655.392\n",
       "2  10-Apr-2020       -70.835                  4.640   662.844\n",
       "3  11-Apr-2020       -54.566                  4.766   658.639\n",
       "4  12-Apr-2020       -60.605                  4.757   659.311\n",
       "5  13-Apr-2020       -59.095                  4.839   660.348\n",
       "6  14-Apr-2020       -54.007                  5.134   660.051"
      ]
     },
     "execution_count": 182,
     "metadata": {},
     "output_type": "execute_result"
    }
   ],
   "source": [
    "\n",
    "mars_df=pd.DataFrame({'Date': date_variables,\n",
    "                        'Average Temp':temp_variables,\n",
    "                        'Horizontal Wind Speed':HWS_variables,\n",
    "                         'Pressure':PRE_variables\n",
    "                        })\n",
    "mars_df"
   ]
  },
  {
   "cell_type": "code",
   "execution_count": 184,
   "metadata": {},
   "outputs": [],
   "source": [
    "# Export the mars data into a .csv.\n",
    "mars_df.to_csv('Resources/mars.csv', encoding='utf-8',index=False)"
   ]
  },
  {
   "cell_type": "code",
   "execution_count": null,
   "metadata": {},
   "outputs": [],
   "source": []
  },
  {
   "cell_type": "code",
   "execution_count": null,
   "metadata": {},
   "outputs": [],
   "source": []
  }
 ],
 "metadata": {
  "kernelspec": {
   "display_name": "Python 3",
   "language": "python",
   "name": "python3"
  },
  "language_info": {
   "codemirror_mode": {
    "name": "ipython",
    "version": 3
   },
   "file_extension": ".py",
   "mimetype": "text/x-python",
   "name": "python",
   "nbconvert_exporter": "python",
   "pygments_lexer": "ipython3",
   "version": "3.7.4"
  }
 },
 "nbformat": 4,
 "nbformat_minor": 2
}
