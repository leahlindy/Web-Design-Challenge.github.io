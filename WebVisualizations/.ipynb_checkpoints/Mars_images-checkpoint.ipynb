{
 "cells": [
  {
   "cell_type": "code",
   "execution_count": 1,
   "metadata": {},
   "outputs": [],
   "source": [
    "import requests\n",
    "from datetime import datetime"
   ]
  },
  {
   "cell_type": "code",
   "execution_count": 2,
   "metadata": {},
   "outputs": [
    {
     "data": {
      "text/plain": [
       "'x0vI6p6jUZL6wftZ2XccsfpVahCArjfeIgxdkqmR'"
      ]
     },
     "execution_count": 2,
     "metadata": {},
     "output_type": "execute_result"
    }
   ],
   "source": [
    "from api_key import nasa_key\n",
    "nasa_key"
   ]
  },
  {
   "cell_type": "code",
   "execution_count": 3,
   "metadata": {},
   "outputs": [
    {
     "name": "stdout",
     "output_type": "stream",
     "text": [
      "A sol is a Martian day, the data has up to date information on the last 7 Sols.\n",
      "The Temperature of sol_1 is -59.095 F.\n",
      "The average horizontal windspeed of sol_1 is 4.839 m/s.\n",
      "The average atmospheric pressure of sol_1 is 660.348 Pa.\n",
      "wind direction: WNW\n",
      "13-Apr-2020: \n",
      " AT: -59.095 F \n",
      " HWS: 4.839 m/s \n",
      " PRE: 660.348 Pa.\n",
      "14-Apr-2020: \n",
      " AT: -59.356 F \n",
      " HWS: 4.831 m/s \n",
      " PRE: 658.527 Pa.\n",
      "15-Apr-2020: \n",
      " AT: -59.627 F \n",
      " HWS: 4.762 m/s \n",
      " PRE: 661.28 Pa.\n",
      "16-Apr-2020: \n",
      " AT: -59.388 F \n",
      " HWS: 4.622 m/s \n",
      " PRE: 662.632 Pa.\n",
      "17-Apr-2020: \n",
      " AT: -59.119 F \n",
      " HWS: 4.637 m/s \n",
      " PRE: 663.224 Pa.\n",
      "18-Apr-2020: \n",
      " AT: -61.677 F \n",
      " HWS: 4.589 m/s \n",
      " PRE: 664.757 Pa.\n",
      "19-Apr-2020: \n",
      " AT: -53.78 F \n",
      " HWS: 5.087 m/s \n",
      " PRE: 664.868 Pa.\n"
     ]
    }
   ],
   "source": [
    "# use Insight API (Martian file) again for dates (for up-to-date images)\n",
    "%run Martian_API.ipynb"
   ]
  },
  {
   "cell_type": "code",
   "execution_count": 4,
   "metadata": {},
   "outputs": [
    {
     "data": {
      "text/plain": [
       "['13-04-2020',\n",
       " '14-04-2020',\n",
       " '15-04-2020',\n",
       " '16-04-2020',\n",
       " '17-04-2020',\n",
       " '18-04-2020',\n",
       " '19-04-2020']"
      ]
     },
     "execution_count": 4,
     "metadata": {},
     "output_type": "execute_result"
    }
   ],
   "source": [
    "numerical_dates"
   ]
  },
  {
   "cell_type": "code",
   "execution_count": 5,
   "metadata": {},
   "outputs": [],
   "source": [
    "base_url= 'https://api.nasa.gov/mars-photos/api/v1/rovers/curiosity/photos?'"
   ]
  },
  {
   "cell_type": "code",
   "execution_count": 14,
   "metadata": {},
   "outputs": [],
   "source": [
    "image_src=[]\n",
    "\n",
    "for sol in numerical_dates:\n",
    "    earth_date = sol\n",
    "    query_url = f'{base_url}sol={earth_date}&api_key={nasa_key}'\n",
    "    mars_response = requests.get(query_url)\n",
    "    mars_json=mars_response.json()\n",
    "    try:\n",
    "        image_link= mars_json['photos'][0]['img_src']\n",
    "        image_src.append(image_link)\n",
    "    except IndexError:\n",
    "        pass\n",
    "        \n"
   ]
  },
  {
   "cell_type": "code",
   "execution_count": 15,
   "metadata": {},
   "outputs": [
    {
     "name": "stdout",
     "output_type": "stream",
     "text": [
      "['http://mars.jpl.nasa.gov/msl-raw-images/msss/00013/mcam/0013ML0000020010100160I01_DXXX.jpg', 'http://mars.jpl.nasa.gov/msl-raw-images/proj/msl/redops/ods/surface/sol/00014/opgs/edr/fcam/FRA_398741806EDR_F0030004FHAZ00200M_.JPG', 'http://mars.jpl.nasa.gov/msl-raw-images/proj/msl/redops/ods/surface/sol/00015/opgs/edr/fcam/FLA_398830957EDR_S0030008FHAZ00102M_.JPG', 'http://mars.jpl.nasa.gov/msl-raw-images/proj/msl/redops/ods/surface/sol/00016/opgs/edr/fcam/FRA_398917092EDR_F0030054FHAZ00130M_.JPG', 'http://mars.jpl.nasa.gov/msl-raw-images/msss/00017/mcam/0017ML0050000000I1_DXXX.jpg', 'http://mars.jpl.nasa.gov/msl-raw-images/msss/00019/mcam/0019MR0000530000100138I01_DXXX.jpg']\n"
     ]
    }
   ],
   "source": [
    "print(image_src)"
   ]
  },
  {
   "cell_type": "code",
   "execution_count": 18,
   "metadata": {},
   "outputs": [
    {
     "data": {
      "text/plain": [
       "'http://mars.jpl.nasa.gov/msl-raw-images/msss/00013/mcam/0013ML0000020010100160I01_DXXX.jpg'"
      ]
     },
     "execution_count": 18,
     "metadata": {},
     "output_type": "execute_result"
    }
   ],
   "source": [
    "image_src[0]"
   ]
  },
  {
   "cell_type": "code",
   "execution_count": 24,
   "metadata": {},
   "outputs": [],
   "source": [
    "# write image url to separate files\n",
    "try:\n",
    "    file1 = open(\"Resources/image_1.py\",\"w\") \n",
    "    file1.write(image_src[0])\n",
    "\n",
    "    file2 = open(\"Resources/image_2.py\",\"w\") \n",
    "    file2.write(image_src[1])\n",
    "\n",
    "    file3 = open(\"Resources/image_3.py\",\"w\") \n",
    "    file3.write(image_src[2])\n",
    "\n",
    "    file4 = open(\"Resources/image_4.py\",\"w\") \n",
    "    file4.write(image_src[3])\n",
    "\n",
    "    file5 = open(\"Resources/image_5.py\",\"w\") \n",
    "    file5.write(image_src[4])\n",
    "\n",
    "    file6 = open(\"Resources/image_6.py\",\"w\") \n",
    "    file6.write(image_src[5])\n",
    "\n",
    "    file7 = open(\"Resources/image_7.py\",\"w\") \n",
    "    file7.write(image_src[6])\n",
    "\n",
    "except IndexError:\n",
    "    pass"
   ]
  },
  {
   "cell_type": "code",
   "execution_count": null,
   "metadata": {},
   "outputs": [],
   "source": []
  }
 ],
 "metadata": {
  "kernelspec": {
   "display_name": "Python 3",
   "language": "python",
   "name": "python3"
  },
  "language_info": {
   "codemirror_mode": {
    "name": "ipython",
    "version": 3
   },
   "file_extension": ".py",
   "mimetype": "text/x-python",
   "name": "python",
   "nbconvert_exporter": "python",
   "pygments_lexer": "ipython3",
   "version": "3.7.4"
  }
 },
 "nbformat": 4,
 "nbformat_minor": 2
}
