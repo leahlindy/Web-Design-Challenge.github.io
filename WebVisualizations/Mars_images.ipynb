{
 "cells": [
  {
   "cell_type": "code",
   "execution_count": 1,
   "metadata": {},
   "outputs": [],
   "source": [
    "import requests\n",
    "from datetime import datetime"
   ]
  },
  {
   "cell_type": "code",
   "execution_count": 2,
   "metadata": {},
   "outputs": [
    {
     "data": {
      "text/plain": [
       "'x0vI6p6jUZL6wftZ2XccsfpVahCArjfeIgxdkqmR'"
      ]
     },
     "execution_count": 2,
     "metadata": {},
     "output_type": "execute_result"
    }
   ],
   "source": [
    "from api_key import nasa_key\n",
    "nasa_key"
   ]
  },
  {
   "cell_type": "code",
   "execution_count": null,
   "metadata": {},
   "outputs": [],
   "source": [
    "# use Insight API (Martian file) again for dates (for up-to-date images)\n",
    "%run Martian_API.ipynb"
   ]
  },
  {
   "cell_type": "code",
   "execution_count": null,
   "metadata": {},
   "outputs": [],
   "source": [
    "numerical_dates"
   ]
  },
  {
   "cell_type": "code",
   "execution_count": null,
   "metadata": {},
   "outputs": [],
   "source": [
    "base_url= 'https://api.nasa.gov/mars-photos/api/v1/rovers/curiosity/photos?'"
   ]
  },
  {
   "cell_type": "code",
   "execution_count": null,
   "metadata": {},
   "outputs": [],
   "source": [
    "# Query an image for each available sol\n",
    "image_src=[]\n",
    "\n",
    "for sol in numerical_dates:\n",
    "    earth_date = sol\n",
    "    query_url = f'{base_url}sol={earth_date}&api_key={nasa_key}'\n",
    "    mars_response = requests.get(query_url)\n",
    "    mars_json=mars_response.json()\n",
    "    for i in range(0,400):\n",
    "        #list will hold each image link from a single sol that meets criteria\n",
    "        image_day=[]\n",
    "        #try statement required on days where no photos available\n",
    "        try:\n",
    "            #Query by FHAZ camera only (best image quality/view out of all available rover cameras)\n",
    "            if mars_json['photos'][i]['camera']['name']=='FHAZ':\n",
    "                image_link= mars_json['photos'][i]['img_src']\n",
    "                image_day.append(image_link)\n",
    "                \n",
    "            else:\n",
    "                pass\n",
    "            #this selects the first item from the image_day list (as there may be many images from the FHAZ camera, only need one)\n",
    "            image_source= image_day[0]\n",
    "        \n",
    "        #There are some days without images, IndexError occurs\n",
    "        except IndexError:\n",
    "            pass\n",
    "    \n",
    "    #this list holds link from each sol's first image that meets FHAZ if statement   \n",
    "    image_src.append(image_source)\n",
    "\n",
    "#image_src list will include the source images for the html website\n",
    "image_src"
   ]
  },
  {
   "cell_type": "code",
   "execution_count": null,
   "metadata": {},
   "outputs": [],
   "source": [
    "image_src=[]\n",
    "\n",
    "for sol in numerical_dates:\n",
    "    earth_date = sol\n",
    "    query_url = f'{base_url}sol={earth_date}&api_key={nasa_key}'\n",
    "    mars_response = requests.get(query_url)\n",
    "    mars_json=mars_response.json()\n",
    "    try:\n",
    "        image_link= mars_json['photos'][0]['img_src']\n",
    "        image_src.append(image_link)\n",
    "    except IndexError:\n",
    "        pass\n",
    "        \n"
   ]
  },
  {
   "cell_type": "code",
   "execution_count": null,
   "metadata": {},
   "outputs": [],
   "source": [
    "print(image_src)"
   ]
  },
  {
   "cell_type": "code",
   "execution_count": null,
   "metadata": {},
   "outputs": [],
   "source": [
    "\n"
   ]
  },
  {
   "cell_type": "code",
   "execution_count": null,
   "metadata": {},
   "outputs": [],
   "source": []
  },
  {
   "cell_type": "code",
   "execution_count": null,
   "metadata": {},
   "outputs": [],
   "source": []
  }
 ],
 "metadata": {
  "kernelspec": {
   "display_name": "Python 3",
   "language": "python",
   "name": "python3"
  },
  "language_info": {
   "codemirror_mode": {
    "name": "ipython",
    "version": 3
   },
   "file_extension": ".py",
   "mimetype": "text/x-python",
   "name": "python",
   "nbconvert_exporter": "python",
   "pygments_lexer": "ipython3",
   "version": "3.7.4"
  }
 },
 "nbformat": 4,
 "nbformat_minor": 2
}
